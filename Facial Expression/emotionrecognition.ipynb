{
 "cells": [
  {
   "cell_type": "code",
   "execution_count": 70,
   "metadata": {},
   "outputs": [],
   "source": [
    "import pandas as pd\n",
    "import numpy as np\n",
    "from sklearn.preprocessing import OneHotEncoder"
   ]
  },
  {
   "cell_type": "code",
   "execution_count": 71,
   "metadata": {},
   "outputs": [],
   "source": [
    "train=pd.read_csv('/home/jak/Downloads/fer2013.csv')\n",
    "\n",
    "x_train = train.iloc[:28709,1].values\n",
    "y_train = train.iloc[:28709,0:1].values"
   ]
  },
  {
   "cell_type": "code",
   "execution_count": 72,
   "metadata": {},
   "outputs": [],
   "source": [
    "x_test = train.iloc[28709:,1].values\n",
    "y_test = train.iloc[28709:,0:1].values"
   ]
  },
  {
   "cell_type": "code",
   "execution_count": 73,
   "metadata": {},
   "outputs": [],
   "source": [
    "y_train=OneHotEncoder(categories='auto').fit_transform(y_train).toarray() "
   ]
  },
  {
   "cell_type": "code",
   "execution_count": 74,
   "metadata": {},
   "outputs": [],
   "source": [
    "x_test = train.iloc[28709:,1].values\n",
    "y_test = train.iloc[28709:,0:1].values\n"
   ]
  },
  {
   "cell_type": "code",
   "execution_count": 75,
   "metadata": {},
   "outputs": [],
   "source": [
    "y_test=OneHotEncoder(categories='auto').fit_transform(y_test).toarray() "
   ]
  },
  {
   "cell_type": "code",
   "execution_count": 76,
   "metadata": {},
   "outputs": [],
   "source": [
    "def arr_to_image(x):\n",
    "    arr=x.split()   \n",
    "    arr=np.array(arr)   \n",
    "    arr=arr.astype(int)    \n",
    "    a = np.reshape(arr, (48,48))  \n",
    "    return a"
   ]
  },
  {
   "cell_type": "code",
   "execution_count": 77,
   "metadata": {},
   "outputs": [],
   "source": [
    "for i in range(0,28709):\n",
    "     x_train[i]=arr_to_image(x_train[i])\n",
    "     \n",
    "for i in range(0,7178):     \n",
    "     x_test[i]=arr_to_image(x_test[i])"
   ]
  },
  {
   "cell_type": "code",
   "execution_count": 78,
   "metadata": {},
   "outputs": [],
   "source": [
    "x1=list(x_train)\n",
    "x2=list(x_test)\n",
    "    \n",
    "x1 = np.asarray(x1,dtype=np.uint8)\n",
    "x2 = np.asarray(x2,dtype=np.uint8)\n",
    "\n",
    "x1 = x1.reshape(28709,48,48,1)\n",
    "x2 = x2.reshape(7178,48,48,1)"
   ]
  },
  {
   "cell_type": "code",
   "execution_count": 79,
   "metadata": {},
   "outputs": [],
   "source": [
    "from keras.models import Sequential\n",
    "from keras.layers import Convolution2D    as Conv2D ,AveragePooling2D#for dealing with pictures\n",
    "from keras.layers import Flatten   , MaxPooling2D      #flatten the maps\n",
    "from keras.layers import Dense  ,Dropout"
   ]
  },
  {
   "cell_type": "code",
   "execution_count": 84,
   "metadata": {},
   "outputs": [
    {
     "name": "stdout",
     "output_type": "stream",
     "text": [
      "_________________________________________________________________\n",
      "Layer (type)                 Output Shape              Param #   \n",
      "=================================================================\n",
      "conv2d_29 (Conv2D)           (None, 44, 44, 64)        1664      \n",
      "_________________________________________________________________\n",
      "max_pooling2d_7 (MaxPooling2 (None, 20, 20, 64)        0         \n",
      "_________________________________________________________________\n",
      "conv2d_30 (Conv2D)           (None, 18, 18, 64)        36928     \n",
      "_________________________________________________________________\n",
      "conv2d_31 (Conv2D)           (None, 16, 16, 64)        36928     \n",
      "_________________________________________________________________\n",
      "average_pooling2d_11 (Averag (None, 7, 7, 64)          0         \n",
      "_________________________________________________________________\n",
      "conv2d_32 (Conv2D)           (None, 5, 5, 128)         73856     \n",
      "_________________________________________________________________\n",
      "conv2d_33 (Conv2D)           (None, 3, 3, 128)         147584    \n",
      "_________________________________________________________________\n",
      "average_pooling2d_12 (Averag (None, 1, 1, 128)         0         \n",
      "_________________________________________________________________\n",
      "flatten_6 (Flatten)          (None, 128)               0         \n",
      "_________________________________________________________________\n",
      "dense_13 (Dense)             (None, 1024)              132096    \n",
      "_________________________________________________________________\n",
      "dropout_9 (Dropout)          (None, 1024)              0         \n",
      "_________________________________________________________________\n",
      "dense_14 (Dense)             (None, 1024)              1049600   \n",
      "_________________________________________________________________\n",
      "dropout_10 (Dropout)         (None, 1024)              0         \n",
      "_________________________________________________________________\n",
      "dense_15 (Dense)             (None, 7)                 7175      \n",
      "=================================================================\n",
      "Total params: 1,485,831\n",
      "Trainable params: 1,485,831\n",
      "Non-trainable params: 0\n",
      "_________________________________________________________________\n",
      "None\n"
     ]
    }
   ],
   "source": [
    "model = Sequential()\n",
    " \n",
    "#1st convolution layer\n",
    "model.add(Conv2D(64, (5, 5), activation='relu', input_shape=(48,48,1)))\n",
    "model.add(MaxPooling2D(pool_size=(5,5), strides=(2, 2)))\n",
    " \n",
    "#2nd convolution layer\n",
    "model.add(Conv2D(64, (3, 3), activation='relu'))\n",
    "model.add(Conv2D(64, (3, 3), activation='relu'))\n",
    "model.add(AveragePooling2D(pool_size=(3,3), strides=(2, 2)))\n",
    " \n",
    "#3rd convolution layer\n",
    "model.add(Conv2D(128, (3, 3), activation='relu'))\n",
    "model.add(Conv2D(128, (3, 3), activation='relu'))\n",
    "model.add(AveragePooling2D(pool_size=(3,3), strides=(2, 2)))\n",
    " \n",
    "model.add(Flatten())\n",
    " \n",
    "#fully connected neural networks\n",
    "model.add(Dense(1024, activation='relu'))\n",
    "model.add(Dropout(0.2))\n",
    "model.add(Dense(1024, activation='relu'))\n",
    "model.add(Dropout(0.2))\n",
    " \n",
    "model.add(Dense(7, activation='softmax'))\n",
    "\n",
    "print(model.summary())"
   ]
  },
  {
   "cell_type": "code",
   "execution_count": 85,
   "metadata": {},
   "outputs": [],
   "source": [
    "batch_size = 128\n",
    "epochs = 50\n",
    "\n",
    "model.compile(loss='binary_crossentropy', optimizer='adam' , metrics=['accuracy'])\n",
    "steps_per_epoch = len(x1) / batch_size\n",
    "validation_steps = len(y_test)/ batch_size"
   ]
  },
  {
   "cell_type": "code",
   "execution_count": 86,
   "metadata": {},
   "outputs": [],
   "source": [
    "from keras.preprocessing.image import ImageDataGenerator\n",
    "\n",
    "datagen = ImageDataGenerator(\n",
    "        featurewise_center=False,  \n",
    "        samplewise_center=False,  \n",
    "        featurewise_std_normalization=False,  \n",
    "        samplewise_std_normalization=False,  \n",
    "        zca_whitening=False,  \n",
    "        rotation_range=10,  \n",
    "        zoom_range = 0.0,  \n",
    "        width_shift_range=0.1,  \n",
    "        height_shift_range=0.1,  \n",
    "        horizontal_flip=False, \n",
    "        vertical_flip=False)  \n",
    "\n",
    "datagen.fit(x1)"
   ]
  },
  {
   "cell_type": "code",
   "execution_count": 87,
   "metadata": {},
   "outputs": [
    {
     "name": "stdout",
     "output_type": "stream",
     "text": [
      "Epoch 1/50\n",
      " - 116s - loss: 0.3956 - acc: 0.8558 - val_loss: 0.3846 - val_acc: 0.8565\n",
      "Epoch 2/50\n",
      " - 114s - loss: 0.3774 - acc: 0.8574 - val_loss: 0.3579 - val_acc: 0.8622\n",
      "Epoch 3/50\n",
      " - 114s - loss: 0.3589 - acc: 0.8619 - val_loss: 0.3470 - val_acc: 0.8655\n",
      "Epoch 4/50\n",
      " - 114s - loss: 0.3429 - acc: 0.8673 - val_loss: 0.3221 - val_acc: 0.8743\n",
      "Epoch 5/50\n",
      " - 114s - loss: 0.3325 - acc: 0.8705 - val_loss: 0.3154 - val_acc: 0.8756\n",
      "Epoch 6/50\n",
      " - 114s - loss: 0.3219 - acc: 0.8736 - val_loss: 0.3102 - val_acc: 0.8772\n",
      "Epoch 7/50\n",
      " - 114s - loss: 0.3135 - acc: 0.8762 - val_loss: 0.2983 - val_acc: 0.8808\n",
      "Epoch 8/50\n",
      " - 113s - loss: 0.3051 - acc: 0.8788 - val_loss: 0.2902 - val_acc: 0.8824\n",
      "Epoch 9/50\n",
      " - 114s - loss: 0.3009 - acc: 0.8800 - val_loss: 0.2851 - val_acc: 0.8840\n",
      "Epoch 10/50\n",
      " - 113s - loss: 0.2939 - acc: 0.8827 - val_loss: 0.2929 - val_acc: 0.8829\n",
      "Epoch 11/50\n",
      " - 113s - loss: 0.2925 - acc: 0.8825 - val_loss: 0.2863 - val_acc: 0.8847\n",
      "Epoch 12/50\n",
      " - 113s - loss: 0.2880 - acc: 0.8840 - val_loss: 0.2782 - val_acc: 0.8877\n",
      "Epoch 13/50\n",
      " - 113s - loss: 0.2824 - acc: 0.8865 - val_loss: 0.2783 - val_acc: 0.8888\n",
      "Epoch 14/50\n",
      " - 113s - loss: 0.2808 - acc: 0.8868 - val_loss: 0.2841 - val_acc: 0.8856\n",
      "Epoch 15/50\n",
      " - 113s - loss: 0.2780 - acc: 0.8879 - val_loss: 0.2827 - val_acc: 0.8865\n",
      "Epoch 16/50\n",
      " - 113s - loss: 0.2737 - acc: 0.8895 - val_loss: 0.2775 - val_acc: 0.8885\n",
      "Epoch 17/50\n",
      " - 113s - loss: 0.2682 - acc: 0.8917 - val_loss: 0.2741 - val_acc: 0.8893\n",
      "Epoch 18/50\n",
      " - 113s - loss: 0.2684 - acc: 0.8909 - val_loss: 0.2739 - val_acc: 0.8902\n",
      "Epoch 19/50\n",
      " - 113s - loss: 0.2643 - acc: 0.8931 - val_loss: 0.2677 - val_acc: 0.8918\n",
      "Epoch 20/50\n",
      " - 113s - loss: 0.2623 - acc: 0.8935 - val_loss: 0.2730 - val_acc: 0.8896\n",
      "Epoch 21/50\n",
      " - 113s - loss: 0.2606 - acc: 0.8940 - val_loss: 0.2695 - val_acc: 0.8902\n",
      "Epoch 22/50\n",
      " - 113s - loss: 0.2578 - acc: 0.8959 - val_loss: 0.2725 - val_acc: 0.8900\n",
      "Epoch 23/50\n",
      " - 113s - loss: 0.2571 - acc: 0.8962 - val_loss: 0.2712 - val_acc: 0.8899\n",
      "Epoch 24/50\n",
      " - 113s - loss: 0.2547 - acc: 0.8967 - val_loss: 0.2685 - val_acc: 0.8909\n",
      "Epoch 25/50\n",
      " - 113s - loss: 0.2534 - acc: 0.8965 - val_loss: 0.2632 - val_acc: 0.8937\n",
      "Epoch 26/50\n",
      " - 113s - loss: 0.2506 - acc: 0.8985 - val_loss: 0.2690 - val_acc: 0.8937\n",
      "Epoch 27/50\n",
      " - 113s - loss: 0.2491 - acc: 0.8988 - val_loss: 0.2700 - val_acc: 0.8921\n",
      "Epoch 28/50\n",
      " - 113s - loss: 0.2476 - acc: 0.8992 - val_loss: 0.2721 - val_acc: 0.8911\n",
      "Epoch 29/50\n",
      " - 113s - loss: 0.2470 - acc: 0.8995 - val_loss: 0.2679 - val_acc: 0.8918\n",
      "Epoch 30/50\n",
      " - 113s - loss: 0.2449 - acc: 0.8999 - val_loss: 0.2674 - val_acc: 0.8940\n",
      "Epoch 31/50\n",
      " - 113s - loss: 0.2419 - acc: 0.9018 - val_loss: 0.2707 - val_acc: 0.8913\n",
      "Epoch 32/50\n",
      " - 113s - loss: 0.2402 - acc: 0.9020 - val_loss: 0.2737 - val_acc: 0.8916\n",
      "Epoch 33/50\n",
      " - 113s - loss: 0.2382 - acc: 0.9035 - val_loss: 0.2709 - val_acc: 0.8937\n",
      "Epoch 34/50\n",
      " - 113s - loss: 0.2385 - acc: 0.9036 - val_loss: 0.2661 - val_acc: 0.8938\n",
      "Epoch 35/50\n",
      " - 112s - loss: 0.2347 - acc: 0.9044 - val_loss: 0.2740 - val_acc: 0.8918\n",
      "Epoch 36/50\n",
      " - 113s - loss: 0.2356 - acc: 0.9043 - val_loss: 0.2650 - val_acc: 0.8945\n",
      "Epoch 37/50\n",
      " - 113s - loss: 0.2323 - acc: 0.9052 - val_loss: 0.2674 - val_acc: 0.8926\n",
      "Epoch 38/50\n",
      " - 113s - loss: 0.2333 - acc: 0.9047 - val_loss: 0.2655 - val_acc: 0.8945\n",
      "Epoch 39/50\n",
      " - 113s - loss: 0.2296 - acc: 0.9069 - val_loss: 0.2670 - val_acc: 0.8935\n",
      "Epoch 40/50\n",
      " - 113s - loss: 0.2299 - acc: 0.9060 - val_loss: 0.2671 - val_acc: 0.8946\n",
      "Epoch 41/50\n",
      " - 113s - loss: 0.2270 - acc: 0.9080 - val_loss: 0.2664 - val_acc: 0.8954\n",
      "Epoch 42/50\n",
      " - 113s - loss: 0.2274 - acc: 0.9075 - val_loss: 0.2630 - val_acc: 0.8950\n",
      "Epoch 43/50\n",
      " - 113s - loss: 0.2229 - acc: 0.9097 - val_loss: 0.2712 - val_acc: 0.8935\n",
      "Epoch 44/50\n",
      " - 113s - loss: 0.2223 - acc: 0.9095 - val_loss: 0.2642 - val_acc: 0.8951\n",
      "Epoch 45/50\n",
      " - 113s - loss: 0.2205 - acc: 0.9108 - val_loss: 0.2694 - val_acc: 0.8945\n",
      "Epoch 46/50\n",
      " - 113s - loss: 0.2224 - acc: 0.9095 - val_loss: 0.2713 - val_acc: 0.8932\n",
      "Epoch 47/50\n",
      " - 113s - loss: 0.2201 - acc: 0.9098 - val_loss: 0.2665 - val_acc: 0.8951\n",
      "Epoch 48/50\n",
      " - 113s - loss: 0.2166 - acc: 0.9117 - val_loss: 0.2751 - val_acc: 0.8945\n",
      "Epoch 49/50\n",
      " - 113s - loss: 0.2162 - acc: 0.9122 - val_loss: 0.2696 - val_acc: 0.8958\n",
      "Epoch 50/50\n",
      " - 113s - loss: 0.2172 - acc: 0.9116 - val_loss: 0.2664 - val_acc: 0.8948\n"
     ]
    }
   ],
   "source": [
    "history = model.fit_generator(datagen.flow(x1, y_train, batch_size=batch_size),\n",
    "                    steps_per_epoch=x1.shape[0] / batch_size,\n",
    "                    validation_data=(x2, y_test),\n",
    "                    epochs = epochs, verbose = 2)"
   ]
  },
  {
   "cell_type": "code",
   "execution_count": 88,
   "metadata": {},
   "outputs": [
    {
     "name": "stdout",
     "output_type": "stream",
     "text": [
      "<keras.callbacks.History object at 0x7f89ffce7cf8>\n"
     ]
    }
   ],
   "source": [
    "print(history)"
   ]
  },
  {
   "cell_type": "code",
   "execution_count": 95,
   "metadata": {},
   "outputs": [],
   "source": [
    "import pickle\n",
    "with open('/home/jak/Desktop/face2', 'wb') as f:\n",
    "    pickle.dump(model,f)"
   ]
  },
  {
   "cell_type": "code",
   "execution_count": 90,
   "metadata": {},
   "outputs": [],
   "source": [
    "import cv2\n",
    "import pickle\n",
    "import matplotlib.pyplot as plt"
   ]
  },
  {
   "cell_type": "code",
   "execution_count": 91,
   "metadata": {},
   "outputs": [
    {
     "data": {
      "image/png": "[encoded data removed]",
      "text/plain": [
       "<Figure size 432x288 with 1 Axes>"
      ]
     },
     "metadata": {
      "needs_background": "light"
     },
     "output_type": "display_data"
    }
   ],
   "source": [
    "imgpath=\"/home/jak/Desktop/1.jpg\"\n",
    "img1=cv2.imread(imgpath,0)\n",
    "plt.imshow(img1,cmap=\"gray\")        #many attributes\n",
    "plt.show()"
   ]
  },
  {
   "cell_type": "code",
   "execution_count": 92,
   "metadata": {},
   "outputs": [],
   "source": [
    "def resize2SquareKeepingAspectRation(img, interpolation, size=48):\n",
    "    h, w = img.shape[:2]\n",
    "    c = 1 if len(img.shape) < 3 else img.shape[2]\n",
    "    if h == w: return cv2.resize(img, (size, size), interpolation)\n",
    "    if h > w: dif = h\n",
    "    else:     dif = w\n",
    "    x_pos = int((dif - w)/2.)\n",
    "    y_pos = int((dif - h)/2.)\n",
    "    if c is None:\n",
    "        mask = np.zeros((dif, dif), dtype=img.dtype)\n",
    "        mask[y_pos:y_pos+h, x_pos:x_pos+w] = img[:h, :w]\n",
    "    else:\n",
    "        mask = np.zeros((dif, dif, c), dtype=img.dtype)\n",
    "        mask[y_pos:y_pos+h, x_pos:x_pos+w, :] = img[:h, :w, :]\n",
    "    return cv2.resize(mask, (size, size), interpolation)"
   ]
  },
  {
   "cell_type": "code",
   "execution_count": 93,
   "metadata": {},
   "outputs": [],
   "source": [
    "img1 = resize2SquareKeepingAspectRation(img1, cv2.INTER_AREA)\n"
   ]
  },
  {
   "cell_type": "code",
   "execution_count": 98,
   "metadata": {},
   "outputs": [
    {
     "name": "stdout",
     "output_type": "stream",
     "text": [
      "[[1.3401456e-01 2.6071796e-04 9.7474351e-04 8.3628070e-01 3.7818670e-03\n",
      "  8.6039276e-04 2.3827044e-02]]\n"
     ]
    }
   ],
   "source": [
    "#img1 = cv2.cvtColor(img1, cv2.COLOR_BGR2GRAY)\n",
    "array=[]\n",
    "array.insert(0,img1)\n",
    "x=np.asarray(array)\n",
    "x = x.reshape(1,48,48,1)\n",
    "print(model.predict(x))"
   ]
  },
  {
   "cell_type": "code",
   "execution_count": 99,
   "metadata": {},
   "outputs": [],
   "source": [
    "p=model.predict(x)"
   ]
  },
  {
   "cell_type": "code",
   "execution_count": 101,
   "metadata": {},
   "outputs": [
    {
     "name": "stdout",
     "output_type": "stream",
     "text": [
      "4\n"
     ]
    }
   ],
   "source": [
    "mylist=np.array(p).tolist()\n",
    "ind = np.argmax(mylist)\n",
    "print(ind+1)"
   ]
  },
  {
   "cell_type": "code",
   "execution_count": 103,
   "metadata": {},
   "outputs": [
    {
     "name": "stdout",
     "output_type": "stream",
     "text": [
      "Happy\n"
     ]
    }
   ],
   "source": [
    "if ind==0: print('Angry')\n",
    "elif ind==1: print('Dsigust')\n",
    "elif ind==2: print('Fear')\n",
    "elif ind==3: print('Happy')\n",
    "elif ind==4: print('Sad')\n",
    "elif ind==5: print('Surprise')\n",
    "else :print('Neutral')"
   ]
  },
  {
   "cell_type": "code",
   "execution_count": null,
   "metadata": {},
   "outputs": [],
   "source": []
  }
 ],
 "metadata": {
  "kernelspec": {
   "display_name": "Python 3",
   "language": "python",
   "name": "python3"
  },
  "language_info": {
   "codemirror_mode": {
    "name": "ipython",
    "version": 3
   },
   "file_extension": ".py",
   "mimetype": "text/x-python",
   "name": "python",
   "nbconvert_exporter": "python",
   "pygments_lexer": "ipython3",
   "version": "3.6.7"
  }
 },
 "nbformat": 4,
 "nbformat_minor": 2
}
